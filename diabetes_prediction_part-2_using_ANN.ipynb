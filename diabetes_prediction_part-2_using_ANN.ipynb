{
 "cells": [
  {
   "cell_type": "code",
   "execution_count": 2,
   "id": "cf9b1761",
   "metadata": {},
   "outputs": [
    {
     "name": "stderr",
     "output_type": "stream",
     "text": [
      "2023-06-27 06:42:18.766049: I tensorflow/core/util/port.cc:110] oneDNN custom operations are on. You may see slightly different numerical results due to floating-point round-off errors from different computation orders. To turn them off, set the environment variable `TF_ENABLE_ONEDNN_OPTS=0`.\n",
      "2023-06-27 06:42:18.768172: I tensorflow/tsl/cuda/cudart_stub.cc:28] Could not find cuda drivers on your machine, GPU will not be used.\n",
      "2023-06-27 06:42:18.808134: I tensorflow/tsl/cuda/cudart_stub.cc:28] Could not find cuda drivers on your machine, GPU will not be used.\n",
      "2023-06-27 06:42:18.809197: I tensorflow/core/platform/cpu_feature_guard.cc:182] This TensorFlow binary is optimized to use available CPU instructions in performance-critical operations.\n",
      "To enable the following instructions: AVX2 AVX512F AVX512_VNNI FMA, in other operations, rebuild TensorFlow with the appropriate compiler flags.\n",
      "2023-06-27 06:42:19.459006: W tensorflow/compiler/tf2tensorrt/utils/py_utils.cc:38] TF-TRT Warning: Could not find TensorRT\n"
     ]
    }
   ],
   "source": [
    "import numpy as np\n",
    "import pandas as pd\n",
    "import matplotlib.pyplot as plt\n",
    "import seaborn as sns\n",
    "import warnings\n",
    "warnings.filterwarnings('ignore')\n",
    "from sklearn.model_selection import train_test_split\n",
    "from sklearn.preprocessing import OneHotEncoder\n",
    "from sklearn.preprocessing import RobustScaler\n",
    "from sklearn.linear_model import LogisticRegression\n",
    "from sklearn.neighbors import KNeighborsClassifier\n",
    "from sklearn.tree import DecisionTreeClassifier\n",
    "from sklearn.svm import SVC\n",
    "from sklearn.ensemble import RandomForestClassifier\n",
    "from xgboost import XGBClassifier\n",
    "from sklearn.metrics import f1_score\n",
    "from sklearn.metrics import precision_score\n",
    "from sklearn.metrics import recall_score\n",
    "from sklearn.preprocessing import StandardScaler\n",
    "from sklearn.preprocessing import MinMaxScaler\n",
    "from sklearn.model_selection import RandomizedSearchCV\n",
    "from sklearn.metrics import accuracy_score\n",
    "from sklearn.metrics import confusion_matrix\n",
    "import tensorflow as tf\n",
    "from tensorflow import keras"
   ]
  },
  {
   "cell_type": "code",
   "execution_count": 3,
   "id": "8c7f88f3",
   "metadata": {},
   "outputs": [],
   "source": [
    "df = pd.read_csv(\"diabetes_prediction_dataset.csv\")"
   ]
  },
  {
   "cell_type": "code",
   "execution_count": 4,
   "id": "c0689185",
   "metadata": {},
   "outputs": [
    {
     "data": {
      "text/html": [
       "<div>\n",
       "<style scoped>\n",
       "    .dataframe tbody tr th:only-of-type {\n",
       "        vertical-align: middle;\n",
       "    }\n",
       "\n",
       "    .dataframe tbody tr th {\n",
       "        vertical-align: top;\n",
       "    }\n",
       "\n",
       "    .dataframe thead th {\n",
       "        text-align: right;\n",
       "    }\n",
       "</style>\n",
       "<table border=\"1\" class=\"dataframe\">\n",
       "  <thead>\n",
       "    <tr style=\"text-align: right;\">\n",
       "      <th></th>\n",
       "      <th>gender</th>\n",
       "      <th>age</th>\n",
       "      <th>hypertension</th>\n",
       "      <th>heart_disease</th>\n",
       "      <th>smoking_history</th>\n",
       "      <th>bmi</th>\n",
       "      <th>HbA1c_level</th>\n",
       "      <th>blood_glucose_level</th>\n",
       "      <th>diabetes</th>\n",
       "    </tr>\n",
       "  </thead>\n",
       "  <tbody>\n",
       "    <tr>\n",
       "      <th>0</th>\n",
       "      <td>Female</td>\n",
       "      <td>80.0</td>\n",
       "      <td>0</td>\n",
       "      <td>1</td>\n",
       "      <td>never</td>\n",
       "      <td>25.19</td>\n",
       "      <td>6.6</td>\n",
       "      <td>140</td>\n",
       "      <td>0</td>\n",
       "    </tr>\n",
       "    <tr>\n",
       "      <th>1</th>\n",
       "      <td>Female</td>\n",
       "      <td>54.0</td>\n",
       "      <td>0</td>\n",
       "      <td>0</td>\n",
       "      <td>No Info</td>\n",
       "      <td>27.32</td>\n",
       "      <td>6.6</td>\n",
       "      <td>80</td>\n",
       "      <td>0</td>\n",
       "    </tr>\n",
       "    <tr>\n",
       "      <th>2</th>\n",
       "      <td>Male</td>\n",
       "      <td>28.0</td>\n",
       "      <td>0</td>\n",
       "      <td>0</td>\n",
       "      <td>never</td>\n",
       "      <td>27.32</td>\n",
       "      <td>5.7</td>\n",
       "      <td>158</td>\n",
       "      <td>0</td>\n",
       "    </tr>\n",
       "    <tr>\n",
       "      <th>3</th>\n",
       "      <td>Female</td>\n",
       "      <td>36.0</td>\n",
       "      <td>0</td>\n",
       "      <td>0</td>\n",
       "      <td>current</td>\n",
       "      <td>23.45</td>\n",
       "      <td>5.0</td>\n",
       "      <td>155</td>\n",
       "      <td>0</td>\n",
       "    </tr>\n",
       "    <tr>\n",
       "      <th>4</th>\n",
       "      <td>Male</td>\n",
       "      <td>76.0</td>\n",
       "      <td>1</td>\n",
       "      <td>1</td>\n",
       "      <td>current</td>\n",
       "      <td>20.14</td>\n",
       "      <td>4.8</td>\n",
       "      <td>155</td>\n",
       "      <td>0</td>\n",
       "    </tr>\n",
       "  </tbody>\n",
       "</table>\n",
       "</div>"
      ],
      "text/plain": [
       "   gender   age  hypertension  heart_disease smoking_history    bmi  \\\n",
       "0  Female  80.0             0              1           never  25.19   \n",
       "1  Female  54.0             0              0         No Info  27.32   \n",
       "2    Male  28.0             0              0           never  27.32   \n",
       "3  Female  36.0             0              0         current  23.45   \n",
       "4    Male  76.0             1              1         current  20.14   \n",
       "\n",
       "   HbA1c_level  blood_glucose_level  diabetes  \n",
       "0          6.6                  140         0  \n",
       "1          6.6                   80         0  \n",
       "2          5.7                  158         0  \n",
       "3          5.0                  155         0  \n",
       "4          4.8                  155         0  "
      ]
     },
     "execution_count": 4,
     "metadata": {},
     "output_type": "execute_result"
    }
   ],
   "source": [
    "df.head()"
   ]
  },
  {
   "cell_type": "markdown",
   "id": "b76fbcdd",
   "metadata": {},
   "source": [
    "Since smoking_history has significant amount of data from categories No_info and it's not preferable to impute that much of values"
   ]
  },
  {
   "cell_type": "code",
   "execution_count": 6,
   "id": "640f85ed",
   "metadata": {},
   "outputs": [],
   "source": [
    "df.drop('smoking_history',axis=1,inplace=True)"
   ]
  },
  {
   "cell_type": "code",
   "execution_count": 7,
   "id": "758666e1",
   "metadata": {},
   "outputs": [
    {
     "data": {
      "text/html": [
       "<div>\n",
       "<style scoped>\n",
       "    .dataframe tbody tr th:only-of-type {\n",
       "        vertical-align: middle;\n",
       "    }\n",
       "\n",
       "    .dataframe tbody tr th {\n",
       "        vertical-align: top;\n",
       "    }\n",
       "\n",
       "    .dataframe thead th {\n",
       "        text-align: right;\n",
       "    }\n",
       "</style>\n",
       "<table border=\"1\" class=\"dataframe\">\n",
       "  <thead>\n",
       "    <tr style=\"text-align: right;\">\n",
       "      <th></th>\n",
       "      <th>gender</th>\n",
       "      <th>age</th>\n",
       "      <th>hypertension</th>\n",
       "      <th>heart_disease</th>\n",
       "      <th>bmi</th>\n",
       "      <th>HbA1c_level</th>\n",
       "      <th>blood_glucose_level</th>\n",
       "      <th>diabetes</th>\n",
       "    </tr>\n",
       "  </thead>\n",
       "  <tbody>\n",
       "    <tr>\n",
       "      <th>0</th>\n",
       "      <td>Female</td>\n",
       "      <td>80.0</td>\n",
       "      <td>0</td>\n",
       "      <td>1</td>\n",
       "      <td>25.19</td>\n",
       "      <td>6.6</td>\n",
       "      <td>140</td>\n",
       "      <td>0</td>\n",
       "    </tr>\n",
       "    <tr>\n",
       "      <th>1</th>\n",
       "      <td>Female</td>\n",
       "      <td>54.0</td>\n",
       "      <td>0</td>\n",
       "      <td>0</td>\n",
       "      <td>27.32</td>\n",
       "      <td>6.6</td>\n",
       "      <td>80</td>\n",
       "      <td>0</td>\n",
       "    </tr>\n",
       "    <tr>\n",
       "      <th>2</th>\n",
       "      <td>Male</td>\n",
       "      <td>28.0</td>\n",
       "      <td>0</td>\n",
       "      <td>0</td>\n",
       "      <td>27.32</td>\n",
       "      <td>5.7</td>\n",
       "      <td>158</td>\n",
       "      <td>0</td>\n",
       "    </tr>\n",
       "    <tr>\n",
       "      <th>3</th>\n",
       "      <td>Female</td>\n",
       "      <td>36.0</td>\n",
       "      <td>0</td>\n",
       "      <td>0</td>\n",
       "      <td>23.45</td>\n",
       "      <td>5.0</td>\n",
       "      <td>155</td>\n",
       "      <td>0</td>\n",
       "    </tr>\n",
       "    <tr>\n",
       "      <th>4</th>\n",
       "      <td>Male</td>\n",
       "      <td>76.0</td>\n",
       "      <td>1</td>\n",
       "      <td>1</td>\n",
       "      <td>20.14</td>\n",
       "      <td>4.8</td>\n",
       "      <td>155</td>\n",
       "      <td>0</td>\n",
       "    </tr>\n",
       "  </tbody>\n",
       "</table>\n",
       "</div>"
      ],
      "text/plain": [
       "   gender   age  hypertension  heart_disease    bmi  HbA1c_level  \\\n",
       "0  Female  80.0             0              1  25.19          6.6   \n",
       "1  Female  54.0             0              0  27.32          6.6   \n",
       "2    Male  28.0             0              0  27.32          5.7   \n",
       "3  Female  36.0             0              0  23.45          5.0   \n",
       "4    Male  76.0             1              1  20.14          4.8   \n",
       "\n",
       "   blood_glucose_level  diabetes  \n",
       "0                  140         0  \n",
       "1                   80         0  \n",
       "2                  158         0  \n",
       "3                  155         0  \n",
       "4                  155         0  "
      ]
     },
     "execution_count": 7,
     "metadata": {},
     "output_type": "execute_result"
    }
   ],
   "source": [
    "df.head()"
   ]
  },
  {
   "cell_type": "code",
   "execution_count": 8,
   "id": "b0f8f721",
   "metadata": {},
   "outputs": [],
   "source": [
    "#separating categorical and numerical variables\n",
    "categorical_=['gender','hypertension','heart_disease']\n",
    "numerical_=['age','bmi','HbA1c_level','blood_glucose_level']  #not including the target variable "
   ]
  },
  {
   "cell_type": "code",
   "execution_count": 10,
   "id": "59800859",
   "metadata": {},
   "outputs": [],
   "source": [
    "#train_test_split\n",
    "df_train,df_test=train_test_split(df,test_size=0.3,random_state=42)"
   ]
  },
  {
   "cell_type": "code",
   "execution_count": 11,
   "id": "9e78fab0",
   "metadata": {},
   "outputs": [],
   "source": [
    "#encoding categorical variables\n",
    "encoder_=OneHotEncoder(handle_unknown='ignore')\n",
    "categorical_train=pd.DataFrame(encoder_.fit_transform(df_train[categorical_]).toarray())"
   ]
  },
  {
   "cell_type": "code",
   "execution_count": 12,
   "id": "6d959c4c",
   "metadata": {},
   "outputs": [],
   "source": [
    "#scaling numerical variables\n",
    "scaler_=StandardScaler()\n",
    "numerical_train=pd.DataFrame(scaler_.fit_transform(df_train[numerical_]),columns=df_train[numerical_].columns)"
   ]
  },
  {
   "cell_type": "code",
   "execution_count": 13,
   "id": "f4127f22",
   "metadata": {},
   "outputs": [],
   "source": [
    "#combing numerical and categorical\n",
    "df_train_=pd.concat((numerical_train,categorical_train),axis=1)"
   ]
  },
  {
   "cell_type": "code",
   "execution_count": 14,
   "id": "e603d24a",
   "metadata": {},
   "outputs": [],
   "source": [
    "#preprocessing test set\n",
    "categorical_test=pd.DataFrame(encoder_.transform(df_test[categorical_]).toarray())\n",
    "numerical_test=pd.DataFrame(scaler_.transform(df_test[numerical_]),columns=df_test[numerical_].columns)"
   ]
  },
  {
   "cell_type": "code",
   "execution_count": 15,
   "id": "995c7ca1",
   "metadata": {},
   "outputs": [],
   "source": [
    "#combing categorical and numerical\n",
    "df_test_=pd.concat((numerical_test,categorical_test),axis=1)"
   ]
  },
  {
   "cell_type": "markdown",
   "id": "ce61d3b2",
   "metadata": {},
   "source": [
    "# Model training"
   ]
  },
  {
   "cell_type": "markdown",
   "id": "d04d8f6a",
   "metadata": {},
   "source": [
    "# ANN"
   ]
  },
  {
   "cell_type": "markdown",
   "id": "c1cdbe92",
   "metadata": {},
   "source": [
    "Since we will need a validation set for the training and test for measuring the performance therefore we will split \n",
    "the train set previously created in to train and validation."
   ]
  },
  {
   "cell_type": "code",
   "execution_count": 16,
   "id": "eb7d74b0",
   "metadata": {},
   "outputs": [],
   "source": [
    "X_train,X_val,y_train,y_val=train_test_split(df_train_,df_train['diabetes'])"
   ]
  },
  {
   "cell_type": "code",
   "execution_count": 17,
   "id": "27274842",
   "metadata": {},
   "outputs": [
    {
     "name": "stdout",
     "output_type": "stream",
     "text": [
      "Epoch 1/20\n",
      "1641/1641 [==============================] - 6s 3ms/step - loss: 0.1289 - accuracy: 0.9574 - val_loss: 0.1066 - val_accuracy: 0.9628\n",
      "Epoch 2/20\n",
      "1641/1641 [==============================] - 6s 3ms/step - loss: 0.1011 - accuracy: 0.9659 - val_loss: 0.0941 - val_accuracy: 0.9687\n",
      "Epoch 3/20\n",
      "1641/1641 [==============================] - 5s 3ms/step - loss: 0.0898 - accuracy: 0.9695 - val_loss: 0.0896 - val_accuracy: 0.9678\n",
      "Epoch 4/20\n",
      "1641/1641 [==============================] - 5s 3ms/step - loss: 0.0859 - accuracy: 0.9714 - val_loss: 0.0858 - val_accuracy: 0.9698\n",
      "Epoch 5/20\n",
      "1641/1641 [==============================] - 5s 3ms/step - loss: 0.0846 - accuracy: 0.9719 - val_loss: 0.0862 - val_accuracy: 0.9701\n",
      "Epoch 6/20\n",
      "1641/1641 [==============================] - 5s 3ms/step - loss: 0.0837 - accuracy: 0.9720 - val_loss: 0.0852 - val_accuracy: 0.9704\n",
      "Epoch 7/20\n",
      "1641/1641 [==============================] - 6s 3ms/step - loss: 0.0833 - accuracy: 0.9724 - val_loss: 0.0846 - val_accuracy: 0.9701\n",
      "Epoch 8/20\n",
      "1641/1641 [==============================] - 5s 3ms/step - loss: 0.0830 - accuracy: 0.9720 - val_loss: 0.0849 - val_accuracy: 0.9708\n",
      "Epoch 9/20\n",
      "1641/1641 [==============================] - 5s 3ms/step - loss: 0.0828 - accuracy: 0.9724 - val_loss: 0.0840 - val_accuracy: 0.9705\n",
      "Epoch 10/20\n",
      "1641/1641 [==============================] - 5s 3ms/step - loss: 0.0824 - accuracy: 0.9724 - val_loss: 0.0839 - val_accuracy: 0.9703\n",
      "Epoch 11/20\n",
      "1641/1641 [==============================] - 5s 3ms/step - loss: 0.0825 - accuracy: 0.9724 - val_loss: 0.0838 - val_accuracy: 0.9706\n",
      "Epoch 12/20\n",
      "1641/1641 [==============================] - 5s 3ms/step - loss: 0.0820 - accuracy: 0.9727 - val_loss: 0.0839 - val_accuracy: 0.9709\n",
      "Epoch 13/20\n",
      "1641/1641 [==============================] - 6s 3ms/step - loss: 0.0823 - accuracy: 0.9725 - val_loss: 0.0831 - val_accuracy: 0.9706\n",
      "Epoch 14/20\n",
      "1641/1641 [==============================] - 5s 3ms/step - loss: 0.0821 - accuracy: 0.9724 - val_loss: 0.0832 - val_accuracy: 0.9706\n",
      "Epoch 15/20\n",
      "1641/1641 [==============================] - 5s 3ms/step - loss: 0.0819 - accuracy: 0.9726 - val_loss: 0.0838 - val_accuracy: 0.9702\n",
      "Epoch 16/20\n",
      "1641/1641 [==============================] - 6s 3ms/step - loss: 0.0818 - accuracy: 0.9725 - val_loss: 0.0832 - val_accuracy: 0.9707\n",
      "Epoch 17/20\n",
      "1641/1641 [==============================] - 5s 3ms/step - loss: 0.0818 - accuracy: 0.9725 - val_loss: 0.0838 - val_accuracy: 0.9702\n",
      "Epoch 18/20\n",
      "1641/1641 [==============================] - 5s 3ms/step - loss: 0.0816 - accuracy: 0.9726 - val_loss: 0.0839 - val_accuracy: 0.9701\n",
      "Epoch 19/20\n",
      "1641/1641 [==============================] - 5s 3ms/step - loss: 0.0815 - accuracy: 0.9726 - val_loss: 0.0843 - val_accuracy: 0.9702\n",
      "Epoch 20/20\n",
      "1641/1641 [==============================] - 5s 3ms/step - loss: 0.0815 - accuracy: 0.9727 - val_loss: 0.0834 - val_accuracy: 0.9709\n"
     ]
    }
   ],
   "source": [
    "#creating ANN model\n",
    "model=keras.models.Sequential([\n",
    "    keras.layers.Dense(30,activation='relu',input_shape=X_train.shape[1:]),\n",
    "    keras.layers.Dense(40,activation='relu'),\n",
    "     keras.layers.Dense(1,activation='sigmoid')\n",
    "])\n",
    "model.compile(loss='binary_crossentropy',optimizer='adam',metrics=['accuracy'])\n",
    "history = model.fit(X_train, y_train, epochs=20,\n",
    " validation_data=(X_val, y_val))"
   ]
  },
  {
   "cell_type": "code",
   "execution_count": 33,
   "id": "f1fa8153",
   "metadata": {},
   "outputs": [
    {
     "name": "stdout",
     "output_type": "stream",
     "text": [
      "2188/2188 [==============================] - 4s 2ms/step - loss: 0.0813 - accuracy: 0.9724\n"
     ]
    }
   ],
   "source": [
    "y_scor = model.evaluate(df_train_,df_train['diabetes'])"
   ]
  },
  {
   "cell_type": "code",
   "execution_count": 34,
   "id": "ab983ddd",
   "metadata": {},
   "outputs": [
    {
     "data": {
      "text/plain": [
       "[0.08129643648862839, 0.9723571538925171]"
      ]
     },
     "execution_count": 34,
     "metadata": {},
     "output_type": "execute_result"
    }
   ],
   "source": [
    "y_scor"
   ]
  },
  {
   "cell_type": "code",
   "execution_count": 18,
   "id": "824e3032",
   "metadata": {},
   "outputs": [
    {
     "name": "stdout",
     "output_type": "stream",
     "text": [
      "938/938 [==============================] - 1s 901us/step - loss: 0.0822 - accuracy: 0.9718\n"
     ]
    },
    {
     "data": {
      "text/plain": [
       "[0.08216390013694763, 0.9717666506767273]"
      ]
     },
     "execution_count": 18,
     "metadata": {},
     "output_type": "execute_result"
    }
   ],
   "source": [
    "model.evaluate(df_test_,df_test['diabetes'])"
   ]
  },
  {
   "cell_type": "markdown",
   "id": "4de70fe3",
   "metadata": {},
   "source": [
    "# Based on our previously trained models still RF performs better with an accuracy of 0.98."
   ]
  },
  {
   "cell_type": "code",
   "execution_count": 37,
   "id": "d41bcb98",
   "metadata": {},
   "outputs": [
    {
     "data": {
      "image/png": "[encoded data removed]",
      "text/plain": [
       "<Figure size 640x480 with 1 Axes>"
      ]
     },
     "metadata": {},
     "output_type": "display_data"
    },
    {
     "data": {
      "image/png": "[encoded data removed]",
      "text/plain": [
       "<Figure size 640x480 with 1 Axes>"
      ]
     },
     "metadata": {},
     "output_type": "display_data"
    }
   ],
   "source": [
    "plt.plot(history.history['accuracy']) #variable contains the training accuracy for each epoch.\n",
    "plt.plot(history.history['val_accuracy']) # variable contains the validation accuracy for each epoch.\n",
    "plt.title('model accuracy') #\n",
    "plt.ylabel('accuracy')\n",
    "plt.xlabel('epoch')\n",
    "plt.legend(['train', 'test'], loc='upper left')\n",
    "plt.show()\n",
    "# summarize history for loss\n",
    "plt.plot(history.history['loss']) #variable contains the training loss for each epoch.\n",
    "plt.plot(history.history['val_loss'])\n",
    "plt.title('model loss')\n",
    "plt.ylabel('loss')\n",
    "plt.xlabel('epoch')\n",
    "plt.legend(['train', 'test'], loc='upper left')\n",
    "plt.show()"
   ]
  },
  {
   "cell_type": "code",
   "execution_count": null,
   "id": "8e9a36ae",
   "metadata": {},
   "outputs": [],
   "source": []
  }
 ],
 "metadata": {
  "kernelspec": {
   "display_name": "Python 3 (ipykernel)",
   "language": "python",
   "name": "python3"
  },
  "language_info": {
   "codemirror_mode": {
    "name": "ipython",
    "version": 3
   },
   "file_extension": ".py",
   "mimetype": "text/x-python",
   "name": "python",
   "nbconvert_exporter": "python",
   "pygments_lexer": "ipython3",
   "version": "3.10.9"
  }
 },
 "nbformat": 4,
 "nbformat_minor": 5
}
